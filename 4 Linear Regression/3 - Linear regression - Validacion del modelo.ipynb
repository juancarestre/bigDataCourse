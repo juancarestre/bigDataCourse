{
 "cells": [
  {
   "cell_type": "markdown",
   "metadata": {},
   "source": [
    "# Dividir el data set en conjunto de entrenamiento y de testing"
   ]
  },
  {
   "cell_type": "code",
   "execution_count": 4,
   "metadata": {},
   "outputs": [],
   "source": [
    "import pandas as pd\n",
    "import numpy as np\n",
    "import matplotlib.pyplot as plt"
   ]
  },
  {
   "cell_type": "code",
   "execution_count": 6,
   "metadata": {},
   "outputs": [],
   "source": [
    "data = pd.read_csv(\"../python-ml-course-master/datasets/ads/Advertising.csv\")"
   ]
  },
  {
   "cell_type": "code",
   "execution_count": 12,
   "metadata": {},
   "outputs": [],
   "source": [
    "a = np.random.randn(len(data))"
   ]
  },
  {
   "cell_type": "code",
   "execution_count": 13,
   "metadata": {},
   "outputs": [
    {
     "data": {
      "text/plain": [
       "array([-0.51087753,  2.18047715, -0.28495348,  0.49158118,  0.10150826,\n",
       "        1.36980089, -0.79433791,  0.23366386, -1.00879265,  0.47176513,\n",
       "        0.7747503 , -0.04788654, -0.3853674 , -1.03852627,  1.62229165,\n",
       "        1.37856261, -0.01834999,  1.833093  ,  0.57338262, -0.68248163,\n",
       "       -0.13945297, -0.40596143, -0.396149  ,  0.34548354, -0.52563278,\n",
       "       -1.482827  ,  0.52680925, -1.53365152, -0.74290314,  0.69050373,\n",
       "        0.13128347,  0.05827315,  1.13266656, -0.22542464,  0.85855041,\n",
       "       -0.3419146 ,  1.02698937, -1.65454541,  0.66856591,  1.5206774 ,\n",
       "        2.23894897,  0.3475928 , -0.5884007 ,  1.05252036,  0.28735398,\n",
       "       -0.16273377,  0.92928606, -0.09304359, -1.38004398,  0.27236917,\n",
       "        1.06296353,  0.02321686, -1.68729004, -0.61550264, -0.7419178 ,\n",
       "        2.26124611,  0.72154791,  0.63724538,  0.89896582,  1.4299617 ,\n",
       "       -1.70100997,  0.63941541, -1.82722322, -0.02355202, -1.19381503,\n",
       "        1.09727735, -1.20976228, -0.46825236, -0.58323383,  1.31272097,\n",
       "        0.133192  ,  1.55789721, -0.09988713,  2.091877  , -0.63615331,\n",
       "       -0.81549303,  0.12217603,  0.18392875, -1.01091924, -1.27590609,\n",
       "       -0.49981562,  1.38229062,  0.91610154,  0.2854411 ,  0.47161175,\n",
       "       -0.53129273, -0.09054247, -0.80526542, -1.24716885, -0.21479849,\n",
       "        1.18974754,  0.12718567,  0.63700535, -0.28110065,  0.46280491,\n",
       "        0.90781955,  0.53376321,  1.33332694,  0.84565025, -0.9123281 ,\n",
       "        0.67136589, -0.76636964, -2.15371074, -0.16993384,  0.38825871,\n",
       "       -0.21120436,  0.80676939,  0.30653688, -0.82736323, -1.35981172,\n",
       "        1.3746699 , -0.71431694, -2.20703518, -1.12739819, -1.05201469,\n",
       "       -1.05348104, -0.24796533, -0.97525765,  0.73975309,  0.29856095,\n",
       "       -0.6783    , -1.26532683, -0.48348082,  0.74317493,  1.04155657,\n",
       "       -0.59177934, -1.28629579, -0.75384358, -0.52209574, -1.06994282,\n",
       "        0.44817676,  1.16028085, -1.63536941, -0.68012503, -1.83855727,\n",
       "       -0.1755719 , -0.57923958, -0.41041471, -0.8972618 ,  1.35697464,\n",
       "        2.31516688,  0.51932442, -0.94913239,  0.22807692,  1.16334753,\n",
       "        0.28798213,  0.65146478,  0.69400658,  1.47617338,  0.86892972,\n",
       "       -0.13031652,  0.50177496, -2.03897475,  0.32146721, -0.80437614,\n",
       "       -0.4470927 , -0.12270909, -0.43638859, -0.0384163 , -1.2439393 ,\n",
       "       -1.00204819,  0.22819683,  0.41923504,  0.37900768,  0.50610138,\n",
       "       -0.31321039, -0.40525027,  0.11139002,  1.24301764,  0.26846401,\n",
       "       -0.2490348 , -0.18432529, -0.7430914 , -0.46838646,  1.45390386,\n",
       "       -0.61845624,  1.36003797,  1.31325239,  1.40472267, -0.69841978,\n",
       "       -0.96083097, -0.57288276, -0.44756727, -0.8809486 , -2.00468828,\n",
       "       -1.76465432,  0.27934069,  2.0123185 , -2.18609504,  0.58215585,\n",
       "        0.04254542,  0.62459263,  0.37640655, -0.19462717,  0.63317559,\n",
       "       -0.58663436, -0.27367939,  1.21412527, -1.90662966,  0.51858282])"
      ]
     },
     "execution_count": 13,
     "metadata": {},
     "output_type": "execute_result"
    }
   ],
   "source": [
    "a"
   ]
  },
  {
   "cell_type": "code",
   "execution_count": 10,
   "metadata": {},
   "outputs": [
    {
     "data": {
      "text/plain": [
       "(array([ 3., 12., 13., 28., 30., 47., 32., 17., 15.,  3.]),\n",
       " array([-2.84382362, -2.29917318, -1.75452274, -1.2098723 , -0.66522186,\n",
       "        -0.12057142,  0.42407901,  0.96872945,  1.51337989,  2.05803033,\n",
       "         2.60268077]),\n",
       " <a list of 10 Patch objects>)"
      ]
     },
     "execution_count": 10,
     "metadata": {},
     "output_type": "execute_result"
    },
    {
     "data": {
      "image/png": "[encoded data removed]",
      "text/plain": [
       "<Figure size 432x288 with 1 Axes>"
      ]
     },
     "metadata": {},
     "output_type": "display_data"
    }
   ],
   "source": [
    "plt.hist(a)"
   ]
  },
  {
   "cell_type": "code",
   "execution_count": 14,
   "metadata": {},
   "outputs": [
    {
     "data": {
      "text/plain": [
       "array([ True, False,  True,  True,  True, False,  True,  True,  True,\n",
       "        True,  True,  True,  True,  True, False, False,  True, False,\n",
       "        True,  True,  True,  True,  True,  True,  True,  True,  True,\n",
       "        True,  True,  True,  True,  True, False,  True, False,  True,\n",
       "       False,  True,  True, False, False,  True,  True, False,  True,\n",
       "        True, False,  True,  True,  True, False,  True,  True,  True,\n",
       "        True, False,  True,  True, False, False,  True,  True,  True,\n",
       "        True,  True, False,  True,  True,  True, False,  True, False,\n",
       "        True, False,  True,  True,  True,  True,  True,  True,  True,\n",
       "       False, False,  True,  True,  True,  True,  True,  True,  True,\n",
       "       False,  True,  True,  True,  True, False,  True, False, False,\n",
       "        True,  True,  True,  True,  True,  True,  True, False,  True,\n",
       "        True,  True, False,  True,  True,  True,  True,  True,  True,\n",
       "        True,  True,  True,  True,  True,  True,  True, False,  True,\n",
       "        True,  True,  True,  True,  True, False,  True,  True,  True,\n",
       "        True,  True,  True,  True, False, False,  True,  True,  True,\n",
       "       False,  True,  True,  True, False, False,  True,  True,  True,\n",
       "        True,  True,  True,  True,  True,  True,  True,  True,  True,\n",
       "        True,  True,  True,  True,  True,  True, False,  True,  True,\n",
       "        True,  True,  True, False,  True, False, False, False,  True,\n",
       "        True,  True,  True,  True,  True,  True,  True, False,  True,\n",
       "        True,  True,  True,  True,  True,  True,  True,  True, False,\n",
       "        True,  True])"
      ]
     },
     "execution_count": 14,
     "metadata": {},
     "output_type": "execute_result"
    }
   ],
   "source": [
    "check = (a<0.8)\n",
    "training = data[check]\n",
    "testing = data[~check]\n",
    "check"
   ]
  },
  {
   "cell_type": "code",
   "execution_count": 15,
   "metadata": {},
   "outputs": [
    {
     "data": {
      "text/plain": [
       "(158, 42)"
      ]
     },
     "execution_count": 15,
     "metadata": {},
     "output_type": "execute_result"
    }
   ],
   "source": [
    "len(training), len(testing)"
   ]
  },
  {
   "cell_type": "code",
   "execution_count": 17,
   "metadata": {},
   "outputs": [],
   "source": [
    "import statsmodels.formula.api as smf\n",
    "lm=smf.ols(formula='Sales~TV+Radio',data=training).fit()"
   ]
  },
  {
   "cell_type": "code",
   "execution_count": 18,
   "metadata": {},
   "outputs": [
    {
     "data": {
      "text/html": [
       "<table class=\"simpletable\">\n",
       "<caption>OLS Regression Results</caption>\n",
       "<tr>\n",
       "  <th>Dep. Variable:</th>          <td>Sales</td>      <th>  R-squared:         </th> <td>   0.897</td>\n",
       "</tr>\n",
       "<tr>\n",
       "  <th>Model:</th>                   <td>OLS</td>       <th>  Adj. R-squared:    </th> <td>   0.895</td>\n",
       "</tr>\n",
       "<tr>\n",
       "  <th>Method:</th>             <td>Least Squares</td>  <th>  F-statistic:       </th> <td>   672.6</td>\n",
       "</tr>\n",
       "<tr>\n",
       "  <th>Date:</th>             <td>Tue, 14 Aug 2018</td> <th>  Prob (F-statistic):</th> <td>3.97e-77</td>\n",
       "</tr>\n",
       "<tr>\n",
       "  <th>Time:</th>                 <td>22:35:05</td>     <th>  Log-Likelihood:    </th> <td> -303.57</td>\n",
       "</tr>\n",
       "<tr>\n",
       "  <th>No. Observations:</th>      <td>   158</td>      <th>  AIC:               </th> <td>   613.1</td>\n",
       "</tr>\n",
       "<tr>\n",
       "  <th>Df Residuals:</th>          <td>   155</td>      <th>  BIC:               </th> <td>   622.3</td>\n",
       "</tr>\n",
       "<tr>\n",
       "  <th>Df Model:</th>              <td>     2</td>      <th>                     </th>     <td> </td>   \n",
       "</tr>\n",
       "<tr>\n",
       "  <th>Covariance Type:</th>      <td>nonrobust</td>    <th>                     </th>     <td> </td>   \n",
       "</tr>\n",
       "</table>\n",
       "<table class=\"simpletable\">\n",
       "<tr>\n",
       "      <td></td>         <th>coef</th>     <th>std err</th>      <th>t</th>      <th>P>|t|</th>  <th>[0.025</th>    <th>0.975]</th>  \n",
       "</tr>\n",
       "<tr>\n",
       "  <th>Intercept</th> <td>    3.0025</td> <td>    0.326</td> <td>    9.199</td> <td> 0.000</td> <td>    2.358</td> <td>    3.647</td>\n",
       "</tr>\n",
       "<tr>\n",
       "  <th>TV</th>        <td>    0.0459</td> <td>    0.002</td> <td>   30.040</td> <td> 0.000</td> <td>    0.043</td> <td>    0.049</td>\n",
       "</tr>\n",
       "<tr>\n",
       "  <th>Radio</th>     <td>    0.1816</td> <td>    0.009</td> <td>   19.750</td> <td> 0.000</td> <td>    0.163</td> <td>    0.200</td>\n",
       "</tr>\n",
       "</table>\n",
       "<table class=\"simpletable\">\n",
       "<tr>\n",
       "  <th>Omnibus:</th>       <td>51.046</td> <th>  Durbin-Watson:     </th> <td>   2.003</td>\n",
       "</tr>\n",
       "<tr>\n",
       "  <th>Prob(Omnibus):</th> <td> 0.000</td> <th>  Jarque-Bera (JB):  </th> <td> 134.021</td>\n",
       "</tr>\n",
       "<tr>\n",
       "  <th>Skew:</th>          <td>-1.323</td> <th>  Prob(JB):          </th> <td>7.90e-30</td>\n",
       "</tr>\n",
       "<tr>\n",
       "  <th>Kurtosis:</th>      <td> 6.655</td> <th>  Cond. No.          </th> <td>    412.</td>\n",
       "</tr>\n",
       "</table><br/><br/>Warnings:<br/>[1] Standard Errors assume that the covariance matrix of the errors is correctly specified."
      ],
      "text/plain": [
       "<class 'statsmodels.iolib.summary.Summary'>\n",
       "\"\"\"\n",
       "                            OLS Regression Results                            \n",
       "==============================================================================\n",
       "Dep. Variable:                  Sales   R-squared:                       0.897\n",
       "Model:                            OLS   Adj. R-squared:                  0.895\n",
       "Method:                 Least Squares   F-statistic:                     672.6\n",
       "Date:                Tue, 14 Aug 2018   Prob (F-statistic):           3.97e-77\n",
       "Time:                        22:35:05   Log-Likelihood:                -303.57\n",
       "No. Observations:                 158   AIC:                             613.1\n",
       "Df Residuals:                     155   BIC:                             622.3\n",
       "Df Model:                           2                                         \n",
       "Covariance Type:            nonrobust                                         \n",
       "==============================================================================\n",
       "                 coef    std err          t      P>|t|      [0.025      0.975]\n",
       "------------------------------------------------------------------------------\n",
       "Intercept      3.0025      0.326      9.199      0.000       2.358       3.647\n",
       "TV             0.0459      0.002     30.040      0.000       0.043       0.049\n",
       "Radio          0.1816      0.009     19.750      0.000       0.163       0.200\n",
       "==============================================================================\n",
       "Omnibus:                       51.046   Durbin-Watson:                   2.003\n",
       "Prob(Omnibus):                  0.000   Jarque-Bera (JB):              134.021\n",
       "Skew:                          -1.323   Prob(JB):                     7.90e-30\n",
       "Kurtosis:                       6.655   Cond. No.                         412.\n",
       "==============================================================================\n",
       "\n",
       "Warnings:\n",
       "[1] Standard Errors assume that the covariance matrix of the errors is correctly specified.\n",
       "\"\"\""
      ]
     },
     "execution_count": 18,
     "metadata": {},
     "output_type": "execute_result"
    }
   ],
   "source": [
    "lm.summary()"
   ]
  },
  {
   "cell_type": "markdown",
   "metadata": {},
   "source": [
    "Sales = 3.0025 + 0.0459 TV + 0.1816 Radio"
   ]
  },
  {
   "cell_type": "markdown",
   "metadata": {},
   "source": [
    "## Validacion del modelo con el conjunto de testing"
   ]
  },
  {
   "cell_type": "code",
   "execution_count": 19,
   "metadata": {},
   "outputs": [
    {
     "data": {
      "text/plain": [
       "1      12.182393\n",
       "5      12.283867\n",
       "14     18.341347\n",
       "15     20.630536\n",
       "17     23.104388\n",
       "32      7.733903\n",
       "34      7.646928\n",
       "36     23.202112\n",
       "39     20.309609\n",
       "40     16.342552\n",
       "43     14.019583\n",
       "46      8.915636\n",
       "50     12.731181\n",
       "55     21.099884\n",
       "58     21.682111\n",
       "59     18.026534\n",
       "65      7.857064\n",
       "69     20.921999\n",
       "71     10.636921\n",
       "73      9.973932\n",
       "81     14.747774\n",
       "82     10.144122\n",
       "90     10.053401\n",
       "95     16.233563\n",
       "97     15.299040\n",
       "98     23.975572\n",
       "106     6.147407\n",
       "110    14.850270\n",
       "124    19.397557\n",
       "131    15.694999\n",
       "139    19.458624\n",
       "140     9.457546\n",
       "144    10.103858\n",
       "148    12.065855\n",
       "149     9.739411\n",
       "168    17.170458\n",
       "174    13.822421\n",
       "176    19.883125\n",
       "177    12.227030\n",
       "178    16.113563\n",
       "187    16.982095\n",
       "197    12.811434\n",
       "dtype: float64"
      ]
     },
     "execution_count": 19,
     "metadata": {},
     "output_type": "execute_result"
    }
   ],
   "source": [
    "saled_pred = lm.predict(testing)\n",
    "saled_pred"
   ]
  },
  {
   "cell_type": "code",
   "execution_count": 21,
   "metadata": {},
   "outputs": [
    {
     "data": {
      "text/plain": [
       "127.5909091658431"
      ]
     },
     "execution_count": 21,
     "metadata": {},
     "output_type": "execute_result"
    }
   ],
   "source": [
    "SSD = sum((testing['Sales']-saled_pred)**2)\n",
    "SSD"
   ]
  },
  {
   "cell_type": "code",
   "execution_count": 22,
   "metadata": {},
   "outputs": [
    {
     "data": {
      "text/plain": [
       "1.8087459118082774"
      ]
     },
     "execution_count": 22,
     "metadata": {},
     "output_type": "execute_result"
    }
   ],
   "source": [
    "RSE = np.sqrt(SSD/(len(testing)-2-1))\n",
    "RSE"
   ]
  },
  {
   "cell_type": "code",
   "execution_count": 23,
   "metadata": {},
   "outputs": [
    {
     "data": {
      "text/plain": [
       "0.11986009513402913"
      ]
     },
     "execution_count": 23,
     "metadata": {},
     "output_type": "execute_result"
    }
   ],
   "source": [
    "sales_mean = np.mean(testing['Sales'])\n",
    "error = RSE/sales_mean\n",
    "error"
   ]
  },
  {
   "cell_type": "code",
   "execution_count": null,
   "metadata": {},
   "outputs": [],
   "source": []
  }
 ],
 "metadata": {
  "kernelspec": {
   "display_name": "Python 3",
   "language": "python",
   "name": "python3"
  },
  "language_info": {
   "codemirror_mode": {
    "name": "ipython",
    "version": 3
   },
   "file_extension": ".py",
   "mimetype": "text/x-python",
   "name": "python",
   "nbconvert_exporter": "python",
   "pygments_lexer": "ipython3",
   "version": "3.6.5"
  }
 },
 "nbformat": 4,
 "nbformat_minor": 2
}
